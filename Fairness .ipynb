{
 "cells": [
  {
   "cell_type": "code",
   "execution_count": 1,
   "metadata": {
    "colab": {},
    "colab_type": "code",
    "id": "tlfqYVgRjJ1d"
   },
   "outputs": [],
   "source": [
    "import pandas as pd\n",
    "import numpy as np\n",
    "import seaborn as sns\n",
    "import matplotlib.pyplot as plt"
   ]
  },
  {
   "cell_type": "code",
   "execution_count": 2,
   "metadata": {
    "colab": {},
    "colab_type": "code",
    "id": "12RY94Qpjziv"
   },
   "outputs": [],
   "source": [
    "df = pd.read_excel('German_Credit_Score_Gender.xlsx')\n",
    "df=df.drop(['Unnamed: 21'],axis=1)"
   ]
  },
  {
   "cell_type": "code",
   "execution_count": 3,
   "metadata": {},
   "outputs": [],
   "source": [
    "df.rename(columns={'Status of existing checking account':'Status'},inplace=True)\n",
    "df.rename(columns={'Duration in months':'Months'},inplace=True)\n",
    "df.rename(columns={'Installment rate in percentage of disposable income':'Installment rate of income'},inplace=True)\n",
    "df.rename(columns={'Number of existing credits at this bank':'Number of existing credits'},inplace=True)\n",
    "df.rename(columns={'Number of people being liable to provide maintenance for':'Liable to provide maintenance for'},inplace=True)\n",
    "df.rename(columns={'Personal status and sex':'Gender'},inplace=True)\n",
    "df.rename(columns={'?':'ClassLabel'},inplace=True)"
   ]
  },
  {
   "cell_type": "code",
   "execution_count": 4,
   "metadata": {},
   "outputs": [],
   "source": [
    "df_new = pd.read_excel('German_Credit_Score_Gender.xlsx')\n",
    "df_new = df_new.drop(['Unnamed: 21'],axis=1)"
   ]
  },
  {
   "cell_type": "code",
   "execution_count": 5,
   "metadata": {},
   "outputs": [],
   "source": [
    "df_new.rename(columns={'Status of existing checking account':'Status'},inplace=True)\n",
    "df_new.rename(columns={'Duration in months':'Months'},inplace=True)\n",
    "df_new.rename(columns={'Installment rate in percentage of disposable income':'Installment rate of income'},inplace=True)\n",
    "df_new.rename(columns={'Number of existing credits at this bank':'Number of existing credits'},inplace=True)\n",
    "df_new.rename(columns={'Number of people being liable to provide maintenance for':'Liable to provide maintenance for'},inplace=True)\n",
    "df_new.rename(columns={'Personal status and sex':'Gender'},inplace=True)\n",
    "df_new.rename(columns={'?':'ClassLabel'},inplace=True)"
   ]
  },
  {
   "cell_type": "code",
   "execution_count": 6,
   "metadata": {
    "colab": {},
    "colab_type": "code",
    "id": "SNx3-eRamjLR"
   },
   "outputs": [],
   "source": [
    "from sklearn.model_selection import train_test_split"
   ]
  },
  {
   "cell_type": "code",
   "execution_count": 7,
   "metadata": {},
   "outputs": [],
   "source": [
    "import warnings\n",
    "warnings.filterwarnings(\"ignore\", category=FutureWarning)"
   ]
  },
  {
   "cell_type": "code",
   "execution_count": 8,
   "metadata": {
    "colab": {},
    "colab_type": "code",
    "id": "mk9yFb46CN5a"
   },
   "outputs": [],
   "source": [
    "from sklearn.preprocessing import LabelEncoder\n",
    "LE = LabelEncoder()"
   ]
  },
  {
   "cell_type": "code",
   "execution_count": 9,
   "metadata": {},
   "outputs": [],
   "source": [
    "#Features to perform Decision Tree Classifier while excluding demographics\n",
    "feature_new = df.drop(['Gender', 'Age in years', 'Job', 'Housing','Telephone', 'Present employee since', 'Property', 'foreign worker'],axis =1)\n",
    "feature_new['Credit History'] = LE.fit_transform(feature_new['Credit History'])\n",
    "feature_new['Credit Amount'] = LE.fit_transform(feature_new['Credit Amount'])\n",
    "feature_new['Other debtors / guarantors'] = LE.fit_transform(feature_new['Other debtors / guarantors'])\n",
    "feature_new['Number of existing credits'] = LE.fit_transform(feature_new['Number of existing credits'])\n",
    "feature_new['Status'] = LE.fit_transform(feature_new['Status'])\n",
    "feature_new['Months'] = LE.fit_transform(feature_new['Months'])\n",
    "feature_new['Purpose'] = LE.fit_transform(feature_new['Purpose'])\n",
    "feature_new['Saving Account/Bonds'] = LE.fit_transform(feature_new['Saving Account/Bonds'])\n",
    "feature_new['Installment rate of income'] = LE.fit_transform(feature_new['Installment rate of income'])\n",
    "feature_new['Present residence since'] = LE.fit_transform(feature_new['Present residence since'])\n",
    "feature_new['Other installment plans'] = LE.fit_transform(feature_new['Other installment plans'])\n",
    "feature_new['Liable to provide maintenance for'] = LE.fit_transform(feature_new['Liable to provide maintenance for'])"
   ]
  },
  {
   "cell_type": "code",
   "execution_count": 10,
   "metadata": {},
   "outputs": [],
   "source": [
    "features_new_cols = ['Status', 'Months', 'Credit History', 'Purpose', 'Credit Amount', 'Saving Account/Bonds', 'Installment rate of income', 'Other debtors / guarantors', 'Present residence since', 'Other installment plans', 'Number of existing credits', 'Liable to provide maintenance for']\n",
    "Xd = feature_new[features_new_cols]\n",
    "yd = feature_new.ClassLabel"
   ]
  },
  {
   "cell_type": "code",
   "execution_count": 11,
   "metadata": {},
   "outputs": [],
   "source": [
    "Xd_train, Xd_test, yd_train, yd_test = train_test_split(Xd,yd,test_size = 0.25, random_state = 0)\n",
    "\n",
    "# Import Decision Tree Classifier\n",
    "from sklearn.tree import DecisionTreeClassifier \n",
    "dtc = DecisionTreeClassifier()\n",
    "yd = dtc.fit(Xd_test, yd_test)\n",
    "yd_pred=yd.predict(Xd_test)"
   ]
  },
  {
   "cell_type": "code",
   "execution_count": 12,
   "metadata": {},
   "outputs": [
    {
     "name": "stdout",
     "output_type": "stream",
     "text": [
      "[0.67857143 0.66666667 0.68292683]\n"
     ]
    }
   ],
   "source": [
    "from sklearn.model_selection import cross_val_score\n",
    "scores = cross_val_score(yd, Xd_test, yd_test)\n",
    "print(scores)"
   ]
  },
  {
   "cell_type": "code",
   "execution_count": 13,
   "metadata": {},
   "outputs": [],
   "source": [
    "ClassLabel_Classifier_new = pd.DataFrame(yd_pred)\n",
    "\n",
    "df1_new = pd.concat([df_new, ClassLabel_Classifier_new], axis=1, join='inner')\n",
    "\n",
    "df1_new.columns.values[21] = \"ClassLabel1\""
   ]
  },
  {
   "cell_type": "code",
   "execution_count": 14,
   "metadata": {},
   "outputs": [
    {
     "data": {
      "text/html": [
       "<div>\n",
       "<style scoped>\n",
       "    .dataframe tbody tr th:only-of-type {\n",
       "        vertical-align: middle;\n",
       "    }\n",
       "\n",
       "    .dataframe tbody tr th {\n",
       "        vertical-align: top;\n",
       "    }\n",
       "\n",
       "    .dataframe thead th {\n",
       "        text-align: right;\n",
       "    }\n",
       "</style>\n",
       "<table border=\"1\" class=\"dataframe\">\n",
       "  <thead>\n",
       "    <tr style=\"text-align: right;\">\n",
       "      <th></th>\n",
       "      <th>Status</th>\n",
       "      <th>Months</th>\n",
       "      <th>Credit History</th>\n",
       "      <th>Purpose</th>\n",
       "      <th>Credit Amount</th>\n",
       "      <th>Saving Account/Bonds</th>\n",
       "      <th>Present employee since</th>\n",
       "      <th>Installment rate of income</th>\n",
       "      <th>Gender</th>\n",
       "      <th>Other debtors / guarantors</th>\n",
       "      <th>...</th>\n",
       "      <th>Age in years</th>\n",
       "      <th>Other installment plans</th>\n",
       "      <th>Housing</th>\n",
       "      <th>Number of existing credits</th>\n",
       "      <th>Job</th>\n",
       "      <th>Liable to provide maintenance for</th>\n",
       "      <th>Telephone</th>\n",
       "      <th>foreign worker</th>\n",
       "      <th>ClassLabel</th>\n",
       "      <th>ClassLabel1</th>\n",
       "    </tr>\n",
       "  </thead>\n",
       "  <tbody>\n",
       "    <tr>\n",
       "      <td>0</td>\n",
       "      <td>A11</td>\n",
       "      <td>6</td>\n",
       "      <td>A34</td>\n",
       "      <td>A43</td>\n",
       "      <td>1169</td>\n",
       "      <td>A65</td>\n",
       "      <td>A75</td>\n",
       "      <td>4</td>\n",
       "      <td>Male</td>\n",
       "      <td>A101</td>\n",
       "      <td>...</td>\n",
       "      <td>67</td>\n",
       "      <td>A143</td>\n",
       "      <td>A152</td>\n",
       "      <td>2</td>\n",
       "      <td>A173</td>\n",
       "      <td>1</td>\n",
       "      <td>A192</td>\n",
       "      <td>A201</td>\n",
       "      <td>1</td>\n",
       "      <td>1</td>\n",
       "    </tr>\n",
       "    <tr>\n",
       "      <td>1</td>\n",
       "      <td>A12</td>\n",
       "      <td>48</td>\n",
       "      <td>A32</td>\n",
       "      <td>A43</td>\n",
       "      <td>5951</td>\n",
       "      <td>A61</td>\n",
       "      <td>A73</td>\n",
       "      <td>2</td>\n",
       "      <td>Female</td>\n",
       "      <td>A101</td>\n",
       "      <td>...</td>\n",
       "      <td>22</td>\n",
       "      <td>A143</td>\n",
       "      <td>A152</td>\n",
       "      <td>1</td>\n",
       "      <td>A173</td>\n",
       "      <td>1</td>\n",
       "      <td>A191</td>\n",
       "      <td>A201</td>\n",
       "      <td>2</td>\n",
       "      <td>1</td>\n",
       "    </tr>\n",
       "    <tr>\n",
       "      <td>2</td>\n",
       "      <td>A14</td>\n",
       "      <td>12</td>\n",
       "      <td>A34</td>\n",
       "      <td>A46</td>\n",
       "      <td>2096</td>\n",
       "      <td>A61</td>\n",
       "      <td>A74</td>\n",
       "      <td>2</td>\n",
       "      <td>Male</td>\n",
       "      <td>A101</td>\n",
       "      <td>...</td>\n",
       "      <td>49</td>\n",
       "      <td>A143</td>\n",
       "      <td>A152</td>\n",
       "      <td>1</td>\n",
       "      <td>A172</td>\n",
       "      <td>2</td>\n",
       "      <td>A191</td>\n",
       "      <td>A201</td>\n",
       "      <td>1</td>\n",
       "      <td>1</td>\n",
       "    </tr>\n",
       "    <tr>\n",
       "      <td>3</td>\n",
       "      <td>A11</td>\n",
       "      <td>42</td>\n",
       "      <td>A32</td>\n",
       "      <td>A42</td>\n",
       "      <td>7882</td>\n",
       "      <td>A61</td>\n",
       "      <td>A74</td>\n",
       "      <td>2</td>\n",
       "      <td>Male</td>\n",
       "      <td>A103</td>\n",
       "      <td>...</td>\n",
       "      <td>45</td>\n",
       "      <td>A143</td>\n",
       "      <td>A153</td>\n",
       "      <td>1</td>\n",
       "      <td>A173</td>\n",
       "      <td>2</td>\n",
       "      <td>A191</td>\n",
       "      <td>A201</td>\n",
       "      <td>1</td>\n",
       "      <td>1</td>\n",
       "    </tr>\n",
       "    <tr>\n",
       "      <td>4</td>\n",
       "      <td>A11</td>\n",
       "      <td>24</td>\n",
       "      <td>A33</td>\n",
       "      <td>A40</td>\n",
       "      <td>4870</td>\n",
       "      <td>A61</td>\n",
       "      <td>A73</td>\n",
       "      <td>3</td>\n",
       "      <td>Male</td>\n",
       "      <td>A101</td>\n",
       "      <td>...</td>\n",
       "      <td>53</td>\n",
       "      <td>A143</td>\n",
       "      <td>A153</td>\n",
       "      <td>2</td>\n",
       "      <td>A173</td>\n",
       "      <td>2</td>\n",
       "      <td>A191</td>\n",
       "      <td>A201</td>\n",
       "      <td>2</td>\n",
       "      <td>1</td>\n",
       "    </tr>\n",
       "    <tr>\n",
       "      <td>...</td>\n",
       "      <td>...</td>\n",
       "      <td>...</td>\n",
       "      <td>...</td>\n",
       "      <td>...</td>\n",
       "      <td>...</td>\n",
       "      <td>...</td>\n",
       "      <td>...</td>\n",
       "      <td>...</td>\n",
       "      <td>...</td>\n",
       "      <td>...</td>\n",
       "      <td>...</td>\n",
       "      <td>...</td>\n",
       "      <td>...</td>\n",
       "      <td>...</td>\n",
       "      <td>...</td>\n",
       "      <td>...</td>\n",
       "      <td>...</td>\n",
       "      <td>...</td>\n",
       "      <td>...</td>\n",
       "      <td>...</td>\n",
       "      <td>...</td>\n",
       "    </tr>\n",
       "    <tr>\n",
       "      <td>245</td>\n",
       "      <td>A14</td>\n",
       "      <td>24</td>\n",
       "      <td>A32</td>\n",
       "      <td>A49</td>\n",
       "      <td>1258</td>\n",
       "      <td>A61</td>\n",
       "      <td>A74</td>\n",
       "      <td>4</td>\n",
       "      <td>Male</td>\n",
       "      <td>A101</td>\n",
       "      <td>...</td>\n",
       "      <td>25</td>\n",
       "      <td>A143</td>\n",
       "      <td>A152</td>\n",
       "      <td>1</td>\n",
       "      <td>A173</td>\n",
       "      <td>1</td>\n",
       "      <td>A192</td>\n",
       "      <td>A201</td>\n",
       "      <td>1</td>\n",
       "      <td>1</td>\n",
       "    </tr>\n",
       "    <tr>\n",
       "      <td>246</td>\n",
       "      <td>A14</td>\n",
       "      <td>12</td>\n",
       "      <td>A34</td>\n",
       "      <td>A43</td>\n",
       "      <td>717</td>\n",
       "      <td>A61</td>\n",
       "      <td>A75</td>\n",
       "      <td>4</td>\n",
       "      <td>Male</td>\n",
       "      <td>A101</td>\n",
       "      <td>...</td>\n",
       "      <td>52</td>\n",
       "      <td>A143</td>\n",
       "      <td>A152</td>\n",
       "      <td>3</td>\n",
       "      <td>A173</td>\n",
       "      <td>1</td>\n",
       "      <td>A191</td>\n",
       "      <td>A201</td>\n",
       "      <td>1</td>\n",
       "      <td>1</td>\n",
       "    </tr>\n",
       "    <tr>\n",
       "      <td>247</td>\n",
       "      <td>A14</td>\n",
       "      <td>6</td>\n",
       "      <td>A30</td>\n",
       "      <td>A40</td>\n",
       "      <td>1204</td>\n",
       "      <td>A62</td>\n",
       "      <td>A73</td>\n",
       "      <td>4</td>\n",
       "      <td>Male</td>\n",
       "      <td>A101</td>\n",
       "      <td>...</td>\n",
       "      <td>35</td>\n",
       "      <td>A141</td>\n",
       "      <td>A151</td>\n",
       "      <td>1</td>\n",
       "      <td>A173</td>\n",
       "      <td>1</td>\n",
       "      <td>A191</td>\n",
       "      <td>A202</td>\n",
       "      <td>1</td>\n",
       "      <td>1</td>\n",
       "    </tr>\n",
       "    <tr>\n",
       "      <td>248</td>\n",
       "      <td>A13</td>\n",
       "      <td>24</td>\n",
       "      <td>A32</td>\n",
       "      <td>A42</td>\n",
       "      <td>1925</td>\n",
       "      <td>A61</td>\n",
       "      <td>A73</td>\n",
       "      <td>2</td>\n",
       "      <td>Male</td>\n",
       "      <td>A101</td>\n",
       "      <td>...</td>\n",
       "      <td>26</td>\n",
       "      <td>A143</td>\n",
       "      <td>A152</td>\n",
       "      <td>1</td>\n",
       "      <td>A173</td>\n",
       "      <td>1</td>\n",
       "      <td>A191</td>\n",
       "      <td>A201</td>\n",
       "      <td>1</td>\n",
       "      <td>1</td>\n",
       "    </tr>\n",
       "    <tr>\n",
       "      <td>249</td>\n",
       "      <td>A14</td>\n",
       "      <td>18</td>\n",
       "      <td>A32</td>\n",
       "      <td>A43</td>\n",
       "      <td>433</td>\n",
       "      <td>A61</td>\n",
       "      <td>A71</td>\n",
       "      <td>3</td>\n",
       "      <td>Female</td>\n",
       "      <td>A102</td>\n",
       "      <td>...</td>\n",
       "      <td>22</td>\n",
       "      <td>A143</td>\n",
       "      <td>A151</td>\n",
       "      <td>1</td>\n",
       "      <td>A173</td>\n",
       "      <td>1</td>\n",
       "      <td>A191</td>\n",
       "      <td>A201</td>\n",
       "      <td>2</td>\n",
       "      <td>1</td>\n",
       "    </tr>\n",
       "  </tbody>\n",
       "</table>\n",
       "<p>250 rows × 22 columns</p>\n",
       "</div>"
      ],
      "text/plain": [
       "    Status  Months Credit History Purpose  Credit Amount Saving Account/Bonds  \\\n",
       "0      A11       6            A34     A43           1169                  A65   \n",
       "1      A12      48            A32     A43           5951                  A61   \n",
       "2      A14      12            A34     A46           2096                  A61   \n",
       "3      A11      42            A32     A42           7882                  A61   \n",
       "4      A11      24            A33     A40           4870                  A61   \n",
       "..     ...     ...            ...     ...            ...                  ...   \n",
       "245    A14      24            A32     A49           1258                  A61   \n",
       "246    A14      12            A34     A43            717                  A61   \n",
       "247    A14       6            A30     A40           1204                  A62   \n",
       "248    A13      24            A32     A42           1925                  A61   \n",
       "249    A14      18            A32     A43            433                  A61   \n",
       "\n",
       "    Present employee since  Installment rate of income  Gender  \\\n",
       "0                      A75                           4    Male   \n",
       "1                      A73                           2  Female   \n",
       "2                      A74                           2    Male   \n",
       "3                      A74                           2    Male   \n",
       "4                      A73                           3    Male   \n",
       "..                     ...                         ...     ...   \n",
       "245                    A74                           4    Male   \n",
       "246                    A75                           4    Male   \n",
       "247                    A73                           4    Male   \n",
       "248                    A73                           2    Male   \n",
       "249                    A71                           3  Female   \n",
       "\n",
       "    Other debtors / guarantors  ...  Age in years Other installment plans  \\\n",
       "0                         A101  ...            67                    A143   \n",
       "1                         A101  ...            22                    A143   \n",
       "2                         A101  ...            49                    A143   \n",
       "3                         A103  ...            45                    A143   \n",
       "4                         A101  ...            53                    A143   \n",
       "..                         ...  ...           ...                     ...   \n",
       "245                       A101  ...            25                    A143   \n",
       "246                       A101  ...            52                    A143   \n",
       "247                       A101  ...            35                    A141   \n",
       "248                       A101  ...            26                    A143   \n",
       "249                       A102  ...            22                    A143   \n",
       "\n",
       "     Housing Number of existing credits   Job  \\\n",
       "0       A152                          2  A173   \n",
       "1       A152                          1  A173   \n",
       "2       A152                          1  A172   \n",
       "3       A153                          1  A173   \n",
       "4       A153                          2  A173   \n",
       "..       ...                        ...   ...   \n",
       "245     A152                          1  A173   \n",
       "246     A152                          3  A173   \n",
       "247     A151                          1  A173   \n",
       "248     A152                          1  A173   \n",
       "249     A151                          1  A173   \n",
       "\n",
       "     Liable to provide maintenance for Telephone  foreign worker ClassLabel  \\\n",
       "0                                    1      A192            A201          1   \n",
       "1                                    1      A191            A201          2   \n",
       "2                                    2      A191            A201          1   \n",
       "3                                    2      A191            A201          1   \n",
       "4                                    2      A191            A201          2   \n",
       "..                                 ...       ...             ...        ...   \n",
       "245                                  1      A192            A201          1   \n",
       "246                                  1      A191            A201          1   \n",
       "247                                  1      A191            A202          1   \n",
       "248                                  1      A191            A201          1   \n",
       "249                                  1      A191            A201          2   \n",
       "\n",
       "    ClassLabel1  \n",
       "0             1  \n",
       "1             1  \n",
       "2             1  \n",
       "3             1  \n",
       "4             1  \n",
       "..          ...  \n",
       "245           1  \n",
       "246           1  \n",
       "247           1  \n",
       "248           1  \n",
       "249           1  \n",
       "\n",
       "[250 rows x 22 columns]"
      ]
     },
     "execution_count": 14,
     "metadata": {},
     "output_type": "execute_result"
    }
   ],
   "source": [
    "df1_new"
   ]
  },
  {
   "cell_type": "code",
   "execution_count": 15,
   "metadata": {
    "colab": {},
    "colab_type": "code",
    "id": "oyshwhJE5C5R"
   },
   "outputs": [],
   "source": [
    "#Features to perform logistic regression on fair features\n",
    "features = df.drop(['Status','Months','Purpose','Saving Account/Bonds','Present employee since','Installment rate of income','Gender','Present residence since','Property','Age in years','Other installment plans','Housing','Job','Liable to provide maintenance for','Telephone','foreign worker'],axis=1)\n",
    "features['Credit History'] = LE.fit_transform(features['Credit History'])\n",
    "features['Credit Amount'] = LE.fit_transform(features['Credit Amount'])\n",
    "features['Other debtors / guarantors'] = LE.fit_transform(features['Other debtors / guarantors'])\n",
    "features['Number of existing credits'] = LE.fit_transform(features['Number of existing credits'])"
   ]
  },
  {
   "cell_type": "code",
   "execution_count": 16,
   "metadata": {
    "colab": {},
    "colab_type": "code",
    "id": "YvJ1nAqe1fCK"
   },
   "outputs": [],
   "source": [
    "feature_cols = ['Credit History', 'Credit Amount', 'Other debtors / guarantors', 'Number of existing credits']\n",
    "X = features[feature_cols] # Features\n",
    "y = features.ClassLabel"
   ]
  },
  {
   "cell_type": "code",
   "execution_count": 17,
   "metadata": {
    "colab": {},
    "colab_type": "code",
    "id": "nxAHZ3P0CAU7"
   },
   "outputs": [],
   "source": [
    "X_train,X_test,y_train,y_test=train_test_split(X,y,test_size=0.25,random_state=0)\n",
    "\n",
    "# import the class\n",
    "from sklearn.linear_model import LogisticRegression\n",
    "\n",
    "# instantiate the model (using the default parameters)\n",
    "logreg = LogisticRegression()\n",
    "\n",
    "# fit the model with data\n",
    "y = logreg.fit(X_test,y_test)\n",
    "\n",
    "#\n",
    "y_pred=y.predict(X_test)"
   ]
  },
  {
   "cell_type": "code",
   "execution_count": 18,
   "metadata": {},
   "outputs": [],
   "source": [
    "y_pred_prob=y.predict_proba(X)\n",
    "\n",
    "ClassLabel_Classifier = pd.DataFrame(y_pred)\n",
    "Predictions = pd.DataFrame(y_pred_prob)\n",
    "\n",
    "df1 = pd.concat([df, ClassLabel_Classifier, Predictions], axis=1, join='inner')"
   ]
  },
  {
   "cell_type": "code",
   "execution_count": 19,
   "metadata": {},
   "outputs": [
    {
     "name": "stdout",
     "output_type": "stream",
     "text": [
      "[0.66666667 0.71428571 0.68292683]\n"
     ]
    }
   ],
   "source": [
    "from sklearn.model_selection import cross_val_score\n",
    "scores_linear = cross_val_score(yd, Xd_test, yd_test)\n",
    "print(scores_linear)"
   ]
  },
  {
   "cell_type": "code",
   "execution_count": 20,
   "metadata": {},
   "outputs": [],
   "source": [
    "df1.rename(columns={0: 'ClassLabel_Predicted'}, inplace=True)"
   ]
  },
  {
   "cell_type": "code",
   "execution_count": 21,
   "metadata": {},
   "outputs": [],
   "source": [
    "df1.columns.values[22] = \"Prediction1\"\n",
    "df1.columns.values[23] = \"Prediction2\""
   ]
  },
  {
   "cell_type": "code",
   "execution_count": 22,
   "metadata": {},
   "outputs": [
    {
     "data": {
      "text/html": [
       "<div>\n",
       "<style scoped>\n",
       "    .dataframe tbody tr th:only-of-type {\n",
       "        vertical-align: middle;\n",
       "    }\n",
       "\n",
       "    .dataframe tbody tr th {\n",
       "        vertical-align: top;\n",
       "    }\n",
       "\n",
       "    .dataframe thead th {\n",
       "        text-align: right;\n",
       "    }\n",
       "</style>\n",
       "<table border=\"1\" class=\"dataframe\">\n",
       "  <thead>\n",
       "    <tr style=\"text-align: right;\">\n",
       "      <th></th>\n",
       "      <th>Status</th>\n",
       "      <th>Months</th>\n",
       "      <th>Credit History</th>\n",
       "      <th>Purpose</th>\n",
       "      <th>Credit Amount</th>\n",
       "      <th>Saving Account/Bonds</th>\n",
       "      <th>Present employee since</th>\n",
       "      <th>Installment rate of income</th>\n",
       "      <th>Gender</th>\n",
       "      <th>Other debtors / guarantors</th>\n",
       "      <th>...</th>\n",
       "      <th>Housing</th>\n",
       "      <th>Number of existing credits</th>\n",
       "      <th>Job</th>\n",
       "      <th>Liable to provide maintenance for</th>\n",
       "      <th>Telephone</th>\n",
       "      <th>foreign worker</th>\n",
       "      <th>ClassLabel</th>\n",
       "      <th>ClassLabel_Predicted</th>\n",
       "      <th>Prediction1</th>\n",
       "      <th>Prediction2</th>\n",
       "    </tr>\n",
       "  </thead>\n",
       "  <tbody>\n",
       "    <tr>\n",
       "      <td>0</td>\n",
       "      <td>A11</td>\n",
       "      <td>6</td>\n",
       "      <td>A34</td>\n",
       "      <td>A43</td>\n",
       "      <td>1169</td>\n",
       "      <td>A65</td>\n",
       "      <td>A75</td>\n",
       "      <td>4</td>\n",
       "      <td>Male</td>\n",
       "      <td>A101</td>\n",
       "      <td>...</td>\n",
       "      <td>A152</td>\n",
       "      <td>2</td>\n",
       "      <td>A173</td>\n",
       "      <td>1</td>\n",
       "      <td>A192</td>\n",
       "      <td>A201</td>\n",
       "      <td>1</td>\n",
       "      <td>1</td>\n",
       "      <td>0.842740</td>\n",
       "      <td>0.157260</td>\n",
       "    </tr>\n",
       "    <tr>\n",
       "      <td>1</td>\n",
       "      <td>A12</td>\n",
       "      <td>48</td>\n",
       "      <td>A32</td>\n",
       "      <td>A43</td>\n",
       "      <td>5951</td>\n",
       "      <td>A61</td>\n",
       "      <td>A73</td>\n",
       "      <td>2</td>\n",
       "      <td>Female</td>\n",
       "      <td>A101</td>\n",
       "      <td>...</td>\n",
       "      <td>A152</td>\n",
       "      <td>1</td>\n",
       "      <td>A173</td>\n",
       "      <td>1</td>\n",
       "      <td>A191</td>\n",
       "      <td>A201</td>\n",
       "      <td>2</td>\n",
       "      <td>1</td>\n",
       "      <td>0.613907</td>\n",
       "      <td>0.386093</td>\n",
       "    </tr>\n",
       "    <tr>\n",
       "      <td>2</td>\n",
       "      <td>A14</td>\n",
       "      <td>12</td>\n",
       "      <td>A34</td>\n",
       "      <td>A46</td>\n",
       "      <td>2096</td>\n",
       "      <td>A61</td>\n",
       "      <td>A74</td>\n",
       "      <td>2</td>\n",
       "      <td>Male</td>\n",
       "      <td>A101</td>\n",
       "      <td>...</td>\n",
       "      <td>A152</td>\n",
       "      <td>1</td>\n",
       "      <td>A172</td>\n",
       "      <td>2</td>\n",
       "      <td>A191</td>\n",
       "      <td>A201</td>\n",
       "      <td>1</td>\n",
       "      <td>1</td>\n",
       "      <td>0.813864</td>\n",
       "      <td>0.186136</td>\n",
       "    </tr>\n",
       "    <tr>\n",
       "      <td>3</td>\n",
       "      <td>A11</td>\n",
       "      <td>42</td>\n",
       "      <td>A32</td>\n",
       "      <td>A42</td>\n",
       "      <td>7882</td>\n",
       "      <td>A61</td>\n",
       "      <td>A74</td>\n",
       "      <td>2</td>\n",
       "      <td>Male</td>\n",
       "      <td>A103</td>\n",
       "      <td>...</td>\n",
       "      <td>A153</td>\n",
       "      <td>1</td>\n",
       "      <td>A173</td>\n",
       "      <td>2</td>\n",
       "      <td>A191</td>\n",
       "      <td>A201</td>\n",
       "      <td>1</td>\n",
       "      <td>1</td>\n",
       "      <td>0.591507</td>\n",
       "      <td>0.408493</td>\n",
       "    </tr>\n",
       "    <tr>\n",
       "      <td>4</td>\n",
       "      <td>A11</td>\n",
       "      <td>24</td>\n",
       "      <td>A33</td>\n",
       "      <td>A40</td>\n",
       "      <td>4870</td>\n",
       "      <td>A61</td>\n",
       "      <td>A73</td>\n",
       "      <td>3</td>\n",
       "      <td>Male</td>\n",
       "      <td>A101</td>\n",
       "      <td>...</td>\n",
       "      <td>A153</td>\n",
       "      <td>2</td>\n",
       "      <td>A173</td>\n",
       "      <td>2</td>\n",
       "      <td>A191</td>\n",
       "      <td>A201</td>\n",
       "      <td>2</td>\n",
       "      <td>1</td>\n",
       "      <td>0.697538</td>\n",
       "      <td>0.302462</td>\n",
       "    </tr>\n",
       "  </tbody>\n",
       "</table>\n",
       "<p>5 rows × 24 columns</p>\n",
       "</div>"
      ],
      "text/plain": [
       "  Status  Months Credit History Purpose  Credit Amount Saving Account/Bonds  \\\n",
       "0    A11       6            A34     A43           1169                  A65   \n",
       "1    A12      48            A32     A43           5951                  A61   \n",
       "2    A14      12            A34     A46           2096                  A61   \n",
       "3    A11      42            A32     A42           7882                  A61   \n",
       "4    A11      24            A33     A40           4870                  A61   \n",
       "\n",
       "  Present employee since  Installment rate of income  Gender  \\\n",
       "0                    A75                           4    Male   \n",
       "1                    A73                           2  Female   \n",
       "2                    A74                           2    Male   \n",
       "3                    A74                           2    Male   \n",
       "4                    A73                           3    Male   \n",
       "\n",
       "  Other debtors / guarantors  ...  Housing Number of existing credits   Job  \\\n",
       "0                       A101  ...     A152                          2  A173   \n",
       "1                       A101  ...     A152                          1  A173   \n",
       "2                       A101  ...     A152                          1  A172   \n",
       "3                       A103  ...     A153                          1  A173   \n",
       "4                       A101  ...     A153                          2  A173   \n",
       "\n",
       "  Liable to provide maintenance for Telephone  foreign worker ClassLabel  \\\n",
       "0                                 1      A192            A201          1   \n",
       "1                                 1      A191            A201          2   \n",
       "2                                 2      A191            A201          1   \n",
       "3                                 2      A191            A201          1   \n",
       "4                                 2      A191            A201          2   \n",
       "\n",
       "   ClassLabel_Predicted Prediction1 Prediction2  \n",
       "0                     1    0.842740    0.157260  \n",
       "1                     1    0.613907    0.386093  \n",
       "2                     1    0.813864    0.186136  \n",
       "3                     1    0.591507    0.408493  \n",
       "4                     1    0.697538    0.302462  \n",
       "\n",
       "[5 rows x 24 columns]"
      ]
     },
     "execution_count": 22,
     "metadata": {},
     "output_type": "execute_result"
    }
   ],
   "source": [
    "df1.head()"
   ]
  },
  {
   "cell_type": "code",
   "execution_count": 23,
   "metadata": {},
   "outputs": [],
   "source": [
    "Male=df1[df1['Gender'] == 'Male']\n",
    "Female=df1[df1['Gender'] == 'Female']"
   ]
  },
  {
   "cell_type": "code",
   "execution_count": 24,
   "metadata": {},
   "outputs": [
    {
     "data": {
      "text/html": [
       "<div>\n",
       "<style scoped>\n",
       "    .dataframe tbody tr th:only-of-type {\n",
       "        vertical-align: middle;\n",
       "    }\n",
       "\n",
       "    .dataframe tbody tr th {\n",
       "        vertical-align: top;\n",
       "    }\n",
       "\n",
       "    .dataframe thead th {\n",
       "        text-align: right;\n",
       "    }\n",
       "</style>\n",
       "<table border=\"1\" class=\"dataframe\">\n",
       "  <thead>\n",
       "    <tr style=\"text-align: right;\">\n",
       "      <th></th>\n",
       "      <th>Status</th>\n",
       "      <th>Months</th>\n",
       "      <th>Credit History</th>\n",
       "      <th>Purpose</th>\n",
       "      <th>Credit Amount</th>\n",
       "      <th>Saving Account/Bonds</th>\n",
       "      <th>Present employee since</th>\n",
       "      <th>Installment rate of income</th>\n",
       "      <th>Gender</th>\n",
       "      <th>Other debtors / guarantors</th>\n",
       "      <th>...</th>\n",
       "      <th>Housing</th>\n",
       "      <th>Number of existing credits</th>\n",
       "      <th>Job</th>\n",
       "      <th>Liable to provide maintenance for</th>\n",
       "      <th>Telephone</th>\n",
       "      <th>foreign worker</th>\n",
       "      <th>ClassLabel</th>\n",
       "      <th>ClassLabel_Predicted</th>\n",
       "      <th>Prediction1</th>\n",
       "      <th>Prediction2</th>\n",
       "    </tr>\n",
       "  </thead>\n",
       "  <tbody>\n",
       "    <tr>\n",
       "      <td>0</td>\n",
       "      <td>A11</td>\n",
       "      <td>6</td>\n",
       "      <td>A34</td>\n",
       "      <td>A43</td>\n",
       "      <td>1169</td>\n",
       "      <td>A65</td>\n",
       "      <td>A75</td>\n",
       "      <td>4</td>\n",
       "      <td>Male</td>\n",
       "      <td>A101</td>\n",
       "      <td>...</td>\n",
       "      <td>A152</td>\n",
       "      <td>2</td>\n",
       "      <td>A173</td>\n",
       "      <td>1</td>\n",
       "      <td>A192</td>\n",
       "      <td>A201</td>\n",
       "      <td>1</td>\n",
       "      <td>1</td>\n",
       "      <td>0.842740</td>\n",
       "      <td>0.157260</td>\n",
       "    </tr>\n",
       "    <tr>\n",
       "      <td>2</td>\n",
       "      <td>A14</td>\n",
       "      <td>12</td>\n",
       "      <td>A34</td>\n",
       "      <td>A46</td>\n",
       "      <td>2096</td>\n",
       "      <td>A61</td>\n",
       "      <td>A74</td>\n",
       "      <td>2</td>\n",
       "      <td>Male</td>\n",
       "      <td>A101</td>\n",
       "      <td>...</td>\n",
       "      <td>A152</td>\n",
       "      <td>1</td>\n",
       "      <td>A172</td>\n",
       "      <td>2</td>\n",
       "      <td>A191</td>\n",
       "      <td>A201</td>\n",
       "      <td>1</td>\n",
       "      <td>1</td>\n",
       "      <td>0.813864</td>\n",
       "      <td>0.186136</td>\n",
       "    </tr>\n",
       "    <tr>\n",
       "      <td>3</td>\n",
       "      <td>A11</td>\n",
       "      <td>42</td>\n",
       "      <td>A32</td>\n",
       "      <td>A42</td>\n",
       "      <td>7882</td>\n",
       "      <td>A61</td>\n",
       "      <td>A74</td>\n",
       "      <td>2</td>\n",
       "      <td>Male</td>\n",
       "      <td>A103</td>\n",
       "      <td>...</td>\n",
       "      <td>A153</td>\n",
       "      <td>1</td>\n",
       "      <td>A173</td>\n",
       "      <td>2</td>\n",
       "      <td>A191</td>\n",
       "      <td>A201</td>\n",
       "      <td>1</td>\n",
       "      <td>1</td>\n",
       "      <td>0.591507</td>\n",
       "      <td>0.408493</td>\n",
       "    </tr>\n",
       "    <tr>\n",
       "      <td>4</td>\n",
       "      <td>A11</td>\n",
       "      <td>24</td>\n",
       "      <td>A33</td>\n",
       "      <td>A40</td>\n",
       "      <td>4870</td>\n",
       "      <td>A61</td>\n",
       "      <td>A73</td>\n",
       "      <td>3</td>\n",
       "      <td>Male</td>\n",
       "      <td>A101</td>\n",
       "      <td>...</td>\n",
       "      <td>A153</td>\n",
       "      <td>2</td>\n",
       "      <td>A173</td>\n",
       "      <td>2</td>\n",
       "      <td>A191</td>\n",
       "      <td>A201</td>\n",
       "      <td>2</td>\n",
       "      <td>1</td>\n",
       "      <td>0.697538</td>\n",
       "      <td>0.302462</td>\n",
       "    </tr>\n",
       "    <tr>\n",
       "      <td>5</td>\n",
       "      <td>A14</td>\n",
       "      <td>36</td>\n",
       "      <td>A32</td>\n",
       "      <td>A46</td>\n",
       "      <td>9055</td>\n",
       "      <td>A65</td>\n",
       "      <td>A73</td>\n",
       "      <td>2</td>\n",
       "      <td>Male</td>\n",
       "      <td>A101</td>\n",
       "      <td>...</td>\n",
       "      <td>A153</td>\n",
       "      <td>1</td>\n",
       "      <td>A172</td>\n",
       "      <td>2</td>\n",
       "      <td>A192</td>\n",
       "      <td>A201</td>\n",
       "      <td>1</td>\n",
       "      <td>1</td>\n",
       "      <td>0.594037</td>\n",
       "      <td>0.405963</td>\n",
       "    </tr>\n",
       "    <tr>\n",
       "      <td>...</td>\n",
       "      <td>...</td>\n",
       "      <td>...</td>\n",
       "      <td>...</td>\n",
       "      <td>...</td>\n",
       "      <td>...</td>\n",
       "      <td>...</td>\n",
       "      <td>...</td>\n",
       "      <td>...</td>\n",
       "      <td>...</td>\n",
       "      <td>...</td>\n",
       "      <td>...</td>\n",
       "      <td>...</td>\n",
       "      <td>...</td>\n",
       "      <td>...</td>\n",
       "      <td>...</td>\n",
       "      <td>...</td>\n",
       "      <td>...</td>\n",
       "      <td>...</td>\n",
       "      <td>...</td>\n",
       "      <td>...</td>\n",
       "      <td>...</td>\n",
       "    </tr>\n",
       "    <tr>\n",
       "      <td>242</td>\n",
       "      <td>A11</td>\n",
       "      <td>48</td>\n",
       "      <td>A30</td>\n",
       "      <td>A41</td>\n",
       "      <td>4605</td>\n",
       "      <td>A61</td>\n",
       "      <td>A75</td>\n",
       "      <td>3</td>\n",
       "      <td>Male</td>\n",
       "      <td>A101</td>\n",
       "      <td>...</td>\n",
       "      <td>A153</td>\n",
       "      <td>2</td>\n",
       "      <td>A173</td>\n",
       "      <td>2</td>\n",
       "      <td>A191</td>\n",
       "      <td>A201</td>\n",
       "      <td>2</td>\n",
       "      <td>1</td>\n",
       "      <td>0.453286</td>\n",
       "      <td>0.546714</td>\n",
       "    </tr>\n",
       "    <tr>\n",
       "      <td>245</td>\n",
       "      <td>A14</td>\n",
       "      <td>24</td>\n",
       "      <td>A32</td>\n",
       "      <td>A49</td>\n",
       "      <td>1258</td>\n",
       "      <td>A61</td>\n",
       "      <td>A74</td>\n",
       "      <td>4</td>\n",
       "      <td>Male</td>\n",
       "      <td>A101</td>\n",
       "      <td>...</td>\n",
       "      <td>A152</td>\n",
       "      <td>1</td>\n",
       "      <td>A173</td>\n",
       "      <td>1</td>\n",
       "      <td>A192</td>\n",
       "      <td>A201</td>\n",
       "      <td>1</td>\n",
       "      <td>1</td>\n",
       "      <td>0.723578</td>\n",
       "      <td>0.276422</td>\n",
       "    </tr>\n",
       "    <tr>\n",
       "      <td>246</td>\n",
       "      <td>A14</td>\n",
       "      <td>12</td>\n",
       "      <td>A34</td>\n",
       "      <td>A43</td>\n",
       "      <td>717</td>\n",
       "      <td>A61</td>\n",
       "      <td>A75</td>\n",
       "      <td>4</td>\n",
       "      <td>Male</td>\n",
       "      <td>A101</td>\n",
       "      <td>...</td>\n",
       "      <td>A152</td>\n",
       "      <td>3</td>\n",
       "      <td>A173</td>\n",
       "      <td>1</td>\n",
       "      <td>A191</td>\n",
       "      <td>A201</td>\n",
       "      <td>1</td>\n",
       "      <td>1</td>\n",
       "      <td>0.852325</td>\n",
       "      <td>0.147675</td>\n",
       "    </tr>\n",
       "    <tr>\n",
       "      <td>247</td>\n",
       "      <td>A14</td>\n",
       "      <td>6</td>\n",
       "      <td>A30</td>\n",
       "      <td>A40</td>\n",
       "      <td>1204</td>\n",
       "      <td>A62</td>\n",
       "      <td>A73</td>\n",
       "      <td>4</td>\n",
       "      <td>Male</td>\n",
       "      <td>A101</td>\n",
       "      <td>...</td>\n",
       "      <td>A151</td>\n",
       "      <td>1</td>\n",
       "      <td>A173</td>\n",
       "      <td>1</td>\n",
       "      <td>A191</td>\n",
       "      <td>A202</td>\n",
       "      <td>1</td>\n",
       "      <td>1</td>\n",
       "      <td>0.571740</td>\n",
       "      <td>0.428260</td>\n",
       "    </tr>\n",
       "    <tr>\n",
       "      <td>248</td>\n",
       "      <td>A13</td>\n",
       "      <td>24</td>\n",
       "      <td>A32</td>\n",
       "      <td>A42</td>\n",
       "      <td>1925</td>\n",
       "      <td>A61</td>\n",
       "      <td>A73</td>\n",
       "      <td>2</td>\n",
       "      <td>Male</td>\n",
       "      <td>A101</td>\n",
       "      <td>...</td>\n",
       "      <td>A152</td>\n",
       "      <td>1</td>\n",
       "      <td>A173</td>\n",
       "      <td>1</td>\n",
       "      <td>A191</td>\n",
       "      <td>A201</td>\n",
       "      <td>1</td>\n",
       "      <td>1</td>\n",
       "      <td>0.692905</td>\n",
       "      <td>0.307095</td>\n",
       "    </tr>\n",
       "  </tbody>\n",
       "</table>\n",
       "<p>180 rows × 24 columns</p>\n",
       "</div>"
      ],
      "text/plain": [
       "    Status  Months Credit History Purpose  Credit Amount Saving Account/Bonds  \\\n",
       "0      A11       6            A34     A43           1169                  A65   \n",
       "2      A14      12            A34     A46           2096                  A61   \n",
       "3      A11      42            A32     A42           7882                  A61   \n",
       "4      A11      24            A33     A40           4870                  A61   \n",
       "5      A14      36            A32     A46           9055                  A65   \n",
       "..     ...     ...            ...     ...            ...                  ...   \n",
       "242    A11      48            A30     A41           4605                  A61   \n",
       "245    A14      24            A32     A49           1258                  A61   \n",
       "246    A14      12            A34     A43            717                  A61   \n",
       "247    A14       6            A30     A40           1204                  A62   \n",
       "248    A13      24            A32     A42           1925                  A61   \n",
       "\n",
       "    Present employee since  Installment rate of income Gender  \\\n",
       "0                      A75                           4   Male   \n",
       "2                      A74                           2   Male   \n",
       "3                      A74                           2   Male   \n",
       "4                      A73                           3   Male   \n",
       "5                      A73                           2   Male   \n",
       "..                     ...                         ...    ...   \n",
       "242                    A75                           3   Male   \n",
       "245                    A74                           4   Male   \n",
       "246                    A75                           4   Male   \n",
       "247                    A73                           4   Male   \n",
       "248                    A73                           2   Male   \n",
       "\n",
       "    Other debtors / guarantors  ...  Housing Number of existing credits   Job  \\\n",
       "0                         A101  ...     A152                          2  A173   \n",
       "2                         A101  ...     A152                          1  A172   \n",
       "3                         A103  ...     A153                          1  A173   \n",
       "4                         A101  ...     A153                          2  A173   \n",
       "5                         A101  ...     A153                          1  A172   \n",
       "..                         ...  ...      ...                        ...   ...   \n",
       "242                       A101  ...     A153                          2  A173   \n",
       "245                       A101  ...     A152                          1  A173   \n",
       "246                       A101  ...     A152                          3  A173   \n",
       "247                       A101  ...     A151                          1  A173   \n",
       "248                       A101  ...     A152                          1  A173   \n",
       "\n",
       "    Liable to provide maintenance for Telephone  foreign worker ClassLabel  \\\n",
       "0                                   1      A192            A201          1   \n",
       "2                                   2      A191            A201          1   \n",
       "3                                   2      A191            A201          1   \n",
       "4                                   2      A191            A201          2   \n",
       "5                                   2      A192            A201          1   \n",
       "..                                ...       ...             ...        ...   \n",
       "242                                 2      A191            A201          2   \n",
       "245                                 1      A192            A201          1   \n",
       "246                                 1      A191            A201          1   \n",
       "247                                 1      A191            A202          1   \n",
       "248                                 1      A191            A201          1   \n",
       "\n",
       "     ClassLabel_Predicted Prediction1 Prediction2  \n",
       "0                       1    0.842740    0.157260  \n",
       "2                       1    0.813864    0.186136  \n",
       "3                       1    0.591507    0.408493  \n",
       "4                       1    0.697538    0.302462  \n",
       "5                       1    0.594037    0.405963  \n",
       "..                    ...         ...         ...  \n",
       "242                     1    0.453286    0.546714  \n",
       "245                     1    0.723578    0.276422  \n",
       "246                     1    0.852325    0.147675  \n",
       "247                     1    0.571740    0.428260  \n",
       "248                     1    0.692905    0.307095  \n",
       "\n",
       "[180 rows x 24 columns]"
      ]
     },
     "execution_count": 24,
     "metadata": {},
     "output_type": "execute_result"
    }
   ],
   "source": [
    "Male"
   ]
  },
  {
   "cell_type": "code",
   "execution_count": 25,
   "metadata": {},
   "outputs": [],
   "source": [
    "Maled_new=df1_new[df1_new['Gender'] == 'Male']\n",
    "Femaled_new=df1_new[df1_new['Gender'] == 'Female']"
   ]
  },
  {
   "cell_type": "code",
   "execution_count": 26,
   "metadata": {},
   "outputs": [
    {
     "ename": "NameError",
     "evalue": "name 'new_male' is not defined",
     "output_type": "error",
     "traceback": [
      "\u001b[1;31m---------------------------------------------------------------------------\u001b[0m",
      "\u001b[1;31mNameError\u001b[0m                                 Traceback (most recent call last)",
      "\u001b[1;32m<ipython-input-26-383e116e70ee>\u001b[0m in \u001b[0;36m<module>\u001b[1;34m\u001b[0m\n\u001b[1;32m----> 1\u001b[1;33m \u001b[1;32mdel\u001b[0m \u001b[0mnew_male\u001b[0m\u001b[1;33m\u001b[0m\u001b[1;33m\u001b[0m\u001b[0m\n\u001b[0m\u001b[0;32m      2\u001b[0m \u001b[1;32mdel\u001b[0m \u001b[0mnew_female\u001b[0m\u001b[1;33m\u001b[0m\u001b[1;33m\u001b[0m\u001b[0m\n",
      "\u001b[1;31mNameError\u001b[0m: name 'new_male' is not defined"
     ]
    }
   ],
   "source": [
    "del new_male\n",
    "del new_female"
   ]
  },
  {
   "cell_type": "code",
   "execution_count": 27,
   "metadata": {},
   "outputs": [
    {
     "ename": "NameError",
     "evalue": "name 'new_female' is not defined",
     "output_type": "error",
     "traceback": [
      "\u001b[1;31m---------------------------------------------------------------------------\u001b[0m",
      "\u001b[1;31mNameError\u001b[0m                                 Traceback (most recent call last)",
      "\u001b[1;32m<ipython-input-27-a572df2e518c>\u001b[0m in \u001b[0;36m<module>\u001b[1;34m\u001b[0m\n\u001b[1;32m----> 1\u001b[1;33m \u001b[0mnew_female\u001b[0m\u001b[1;33m\u001b[0m\u001b[1;33m\u001b[0m\u001b[0m\n\u001b[0m",
      "\u001b[1;31mNameError\u001b[0m: name 'new_female' is not defined"
     ]
    }
   ],
   "source": [
    "new_female"
   ]
  },
  {
   "cell_type": "code",
   "execution_count": 28,
   "metadata": {},
   "outputs": [
    {
     "ename": "NameError",
     "evalue": "name 'new_male' is not defined",
     "output_type": "error",
     "traceback": [
      "\u001b[1;31m---------------------------------------------------------------------------\u001b[0m",
      "\u001b[1;31mNameError\u001b[0m                                 Traceback (most recent call last)",
      "\u001b[1;32m<ipython-input-28-bb02150f1d45>\u001b[0m in \u001b[0;36m<module>\u001b[1;34m\u001b[0m\n\u001b[1;32m----> 1\u001b[1;33m \u001b[0mnew_male\u001b[0m\u001b[1;33m\u001b[0m\u001b[1;33m\u001b[0m\u001b[0m\n\u001b[0m",
      "\u001b[1;31mNameError\u001b[0m: name 'new_male' is not defined"
     ]
    }
   ],
   "source": [
    "new_male"
   ]
  },
  {
   "cell_type": "code",
   "execution_count": 29,
   "metadata": {},
   "outputs": [],
   "source": [
    "column_names = [\"Status\", \"Months\", \"CreditHistory\",\"Purpose\", \"CreditAmount\", \"SavingAccount/Bonds\", \"Presentemployeesince\", \"Installmentrateofincome\", \"Gender\", \"Otherdebtors/guarantors\", \"Present residence since\", \"Property\", \"Age in years\", \"Other installment plans\", \"Housing\", \"Numberofexistingcredits\", \"Job\", \"Liabletoprovidemaintenancefor\", \"Telephone\", \"foreignworker\", \"ClassLabel\", \"ClassLabel_Predicted\", \"Prediction1\", \"Prediction2\"]\n",
    "\n",
    "new_male = pd.DataFrame(columns = column_names)"
   ]
  },
  {
   "cell_type": "code",
   "execution_count": 30,
   "metadata": {},
   "outputs": [
    {
     "data": {
      "text/html": [
       "<div>\n",
       "<style scoped>\n",
       "    .dataframe tbody tr th:only-of-type {\n",
       "        vertical-align: middle;\n",
       "    }\n",
       "\n",
       "    .dataframe tbody tr th {\n",
       "        vertical-align: top;\n",
       "    }\n",
       "\n",
       "    .dataframe thead th {\n",
       "        text-align: right;\n",
       "    }\n",
       "</style>\n",
       "<table border=\"1\" class=\"dataframe\">\n",
       "  <thead>\n",
       "    <tr style=\"text-align: right;\">\n",
       "      <th></th>\n",
       "      <th>Status</th>\n",
       "      <th>Months</th>\n",
       "      <th>CreditHistory</th>\n",
       "      <th>Purpose</th>\n",
       "      <th>CreditAmount</th>\n",
       "      <th>SavingAccount/Bonds</th>\n",
       "      <th>Presentemployeesince</th>\n",
       "      <th>Installmentrateofincome</th>\n",
       "      <th>Gender</th>\n",
       "      <th>Otherdebtors/guarantors</th>\n",
       "      <th>...</th>\n",
       "      <th>Housing</th>\n",
       "      <th>Numberofexistingcredits</th>\n",
       "      <th>Job</th>\n",
       "      <th>Liabletoprovidemaintenancefor</th>\n",
       "      <th>Telephone</th>\n",
       "      <th>foreignworker</th>\n",
       "      <th>ClassLabel</th>\n",
       "      <th>ClassLabel_Predicted</th>\n",
       "      <th>Prediction1</th>\n",
       "      <th>Prediction2</th>\n",
       "    </tr>\n",
       "  </thead>\n",
       "  <tbody>\n",
       "  </tbody>\n",
       "</table>\n",
       "<p>0 rows × 24 columns</p>\n",
       "</div>"
      ],
      "text/plain": [
       "Empty DataFrame\n",
       "Columns: [Status, Months, CreditHistory, Purpose, CreditAmount, SavingAccount/Bonds, Presentemployeesince, Installmentrateofincome, Gender, Otherdebtors/guarantors, Present residence since, Property, Age in years, Other installment plans, Housing, Numberofexistingcredits, Job, Liabletoprovidemaintenancefor, Telephone, foreignworker, ClassLabel, ClassLabel_Predicted, Prediction1, Prediction2]\n",
       "Index: []\n",
       "\n",
       "[0 rows x 24 columns]"
      ]
     },
     "execution_count": 30,
     "metadata": {},
     "output_type": "execute_result"
    }
   ],
   "source": [
    "new_male"
   ]
  },
  {
   "cell_type": "code",
   "execution_count": 31,
   "metadata": {},
   "outputs": [],
   "source": [
    "column_names = [\"Status\", \"Months\", \"CreditHistory\",\"Purpose\", \"CreditAmount\", \"SavingAccount/Bonds\", \"Presentemployeesince\", \"Installmentrateofincome\", \"Gender\", \"Otherdebtors/guarantors\", \"Present residence since\", \"Property\", \"Age in years\", \"Other installment plans\", \"Housing\", \"Numberofexistingcredits\", \"Job\", \"Liabletoprovidemaintenancefor\", \"Telephone\", \"foreignworker\", \"ClassLabel\", \"ClassLabel_Predicted\", \"Prediction1\", \"Prediction2\"]\n",
    "\n",
    "new_female = pd.DataFrame(columns = column_names)"
   ]
  },
  {
   "cell_type": "code",
   "execution_count": 32,
   "metadata": {},
   "outputs": [
    {
     "data": {
      "text/html": [
       "<div>\n",
       "<style scoped>\n",
       "    .dataframe tbody tr th:only-of-type {\n",
       "        vertical-align: middle;\n",
       "    }\n",
       "\n",
       "    .dataframe tbody tr th {\n",
       "        vertical-align: top;\n",
       "    }\n",
       "\n",
       "    .dataframe thead th {\n",
       "        text-align: right;\n",
       "    }\n",
       "</style>\n",
       "<table border=\"1\" class=\"dataframe\">\n",
       "  <thead>\n",
       "    <tr style=\"text-align: right;\">\n",
       "      <th></th>\n",
       "      <th>Status</th>\n",
       "      <th>Months</th>\n",
       "      <th>CreditHistory</th>\n",
       "      <th>Purpose</th>\n",
       "      <th>CreditAmount</th>\n",
       "      <th>SavingAccount/Bonds</th>\n",
       "      <th>Presentemployeesince</th>\n",
       "      <th>Installmentrateofincome</th>\n",
       "      <th>Gender</th>\n",
       "      <th>Otherdebtors/guarantors</th>\n",
       "      <th>...</th>\n",
       "      <th>Housing</th>\n",
       "      <th>Numberofexistingcredits</th>\n",
       "      <th>Job</th>\n",
       "      <th>Liabletoprovidemaintenancefor</th>\n",
       "      <th>Telephone</th>\n",
       "      <th>foreignworker</th>\n",
       "      <th>ClassLabel</th>\n",
       "      <th>ClassLabel_Predicted</th>\n",
       "      <th>Prediction1</th>\n",
       "      <th>Prediction2</th>\n",
       "    </tr>\n",
       "  </thead>\n",
       "  <tbody>\n",
       "  </tbody>\n",
       "</table>\n",
       "<p>0 rows × 24 columns</p>\n",
       "</div>"
      ],
      "text/plain": [
       "Empty DataFrame\n",
       "Columns: [Status, Months, CreditHistory, Purpose, CreditAmount, SavingAccount/Bonds, Presentemployeesince, Installmentrateofincome, Gender, Otherdebtors/guarantors, Present residence since, Property, Age in years, Other installment plans, Housing, Numberofexistingcredits, Job, Liabletoprovidemaintenancefor, Telephone, foreignworker, ClassLabel, ClassLabel_Predicted, Prediction1, Prediction2]\n",
       "Index: []\n",
       "\n",
       "[0 rows x 24 columns]"
      ]
     },
     "execution_count": 32,
     "metadata": {},
     "output_type": "execute_result"
    }
   ],
   "source": [
    "new_female"
   ]
  },
  {
   "cell_type": "code",
   "execution_count": 33,
   "metadata": {
    "scrolled": false
   },
   "outputs": [],
   "source": [
    "t = 0.05\n",
    "\n",
    "for x in range(len(Female)):\n",
    "    z = Female['Prediction1'].iloc[x]\n",
    "    min_diff=20\n",
    "    min_posn=2500\n",
    "    for y in range(len(Male)):\n",
    "        a = Male['Prediction1'].iloc[y]\n",
    "        diff = abs(z-a)\n",
    "        if(diff<t):\n",
    "            if(diff<min_diff):\n",
    "                min_diff=diff\n",
    "                min_posn=y\n",
    "    new_male=new_male.append(Male.iloc[min_posn])\n",
    "    Male = Male.drop(Male.index[min_posn]) \n",
    "    new_female = new_female.append(Female.iloc[x])"
   ]
  },
  {
   "cell_type": "code",
   "execution_count": 34,
   "metadata": {},
   "outputs": [
    {
     "data": {
      "text/plain": [
       "<matplotlib.axes._subplots.AxesSubplot at 0x29146c95408>"
      ]
     },
     "execution_count": 34,
     "metadata": {},
     "output_type": "execute_result"
    },
    {
     "data": {
      "image/png": "[encoded data removed]",
      "text/plain": [
       "<Figure size 360x360 with 1 Axes>"
      ]
     },
     "metadata": {
      "needs_background": "light"
     },
     "output_type": "display_data"
    }
   ],
   "source": [
    "new_male['ClassLabel'].value_counts().plot(kind='bar',figsize=(5, 5))"
   ]
  },
  {
   "cell_type": "code",
   "execution_count": 35,
   "metadata": {},
   "outputs": [
    {
     "data": {
      "text/plain": [
       "<matplotlib.axes._subplots.AxesSubplot at 0x29146f9cec8>"
      ]
     },
     "execution_count": 35,
     "metadata": {},
     "output_type": "execute_result"
    },
    {
     "data": {
      "image/png": "[encoded data removed]",
      "text/plain": [
       "<Figure size 360x360 with 1 Axes>"
      ]
     },
     "metadata": {
      "needs_background": "light"
     },
     "output_type": "display_data"
    }
   ],
   "source": [
    "Female['ClassLabel_Predicted'].value_counts().plot(kind='bar',figsize=(5, 5))"
   ]
  },
  {
   "cell_type": "code",
   "execution_count": 36,
   "metadata": {},
   "outputs": [
    {
     "data": {
      "text/plain": [
       "<matplotlib.axes._subplots.AxesSubplot at 0x2914702cec8>"
      ]
     },
     "execution_count": 36,
     "metadata": {},
     "output_type": "execute_result"
    },
    {
     "data": {
      "image/png": "[encoded data removed]",
      "text/plain": [
       "<Figure size 360x360 with 1 Axes>"
      ]
     },
     "metadata": {
      "needs_background": "light"
     },
     "output_type": "display_data"
    }
   ],
   "source": [
    "Male['ClassLabel'].value_counts().plot(kind='bar',figsize=(5, 5))"
   ]
  },
  {
   "cell_type": "code",
   "execution_count": 37,
   "metadata": {},
   "outputs": [
    {
     "data": {
      "text/plain": [
       "<matplotlib.axes._subplots.AxesSubplot at 0x2914709a708>"
      ]
     },
     "execution_count": 37,
     "metadata": {},
     "output_type": "execute_result"
    },
    {
     "data": {
      "image/png": "[encoded data removed]",
      "text/plain": [
       "<Figure size 360x360 with 1 Axes>"
      ]
     },
     "metadata": {
      "needs_background": "light"
     },
     "output_type": "display_data"
    }
   ],
   "source": [
    "Female['ClassLabel'].value_counts().plot(kind='bar',figsize=(5, 5))"
   ]
  },
  {
   "cell_type": "code",
   "execution_count": 49,
   "metadata": {},
   "outputs": [
    {
     "data": {
      "image/png": "[encoded data removed]",
      "text/plain": [
       "<Figure size 720x720 with 1 Axes>"
      ]
     },
     "metadata": {
      "needs_background": "light"
     },
     "output_type": "display_data"
    }
   ],
   "source": [
    "#Distribution over gender\n",
    "# Make a separate list for each gender\n",
    "x1 = list(new_male['Prediction1'])\n",
    "x2 = list(Female['Prediction1'])\n",
    "\n",
    "# Assign colors for each airline and the names\n",
    "colors = ['#E69F00', '#56B4E9']\n",
    "names = ['Male', 'Female']\n",
    "\n",
    "plt.hist([x1,x2], color = colors, density=False,\n",
    "         bins = int(30))\n",
    "plt.title('Distribution over gender')\n",
    "plt.xlabel(\"Probalitiy\")\n",
    "plt.ylabel(\"Number of TImes\")\n",
    "\n",
    "from pylab import rcParams\n",
    "rcParams['figure.figsize'] = 8,8"
   ]
  },
  {
   "cell_type": "code",
   "execution_count": 51,
   "metadata": {},
   "outputs": [
    {
     "data": {
      "image/png": "[encoded data removed]",
      "text/plain": [
       "<Figure size 576x576 with 1 Axes>"
      ]
     },
     "metadata": {
      "needs_background": "light"
     },
     "output_type": "display_data"
    }
   ],
   "source": [
    "#Distribution over gender before \n",
    "# Make a separate list for each gender\n",
    "y1 = list(Male['Prediction1'])\n",
    "y2 = list(Female['Prediction1'])\n",
    "\n",
    "# Assign colors for each airline and the names\n",
    "colors = ['#E69F00', '#56B4E9']\n",
    "names = ['Male', 'Female']\n",
    "\n",
    "plt.hist([y1,y2], color = colors, density=False,\n",
    "         bins = int(30), label=names)\n",
    "plt.title('Distribution over gender')\n",
    "plt.xlabel(\"Probalitiy\")\n",
    "plt.ylabel(\"Number of TImes\")\n",
    "\n",
    "from pylab import rcParams\n",
    "rcParams['figure.figsize'] = 8,8"
   ]
  },
  {
   "cell_type": "code",
   "execution_count": 52,
   "metadata": {},
   "outputs": [],
   "source": [
    "Maled_new_1 = Maled_new[Maled_new['ClassLabel1'] == 1] #decision tree\n",
    "Femaled_new_1 = Femaled_new[Femaled_new['ClassLabel1'] == 1] #decision tree\n",
    "Male_1 = new_male[new_male['ClassLabel_Predicted'] == 1] #matched\n",
    "Female_1 = Female[Female['ClassLabel_Predicted']==1]#matched"
   ]
  },
  {
   "cell_type": "code",
   "execution_count": 53,
   "metadata": {},
   "outputs": [],
   "source": [
    "pos_fem_dec = len(Femaled_new_1)\n",
    "pos_mal_dec = len(Maled_new_1)\n",
    "pos_mal_mat = len(Male_1)\n",
    "pos_fem_mat = len(Female_1)\n",
    "tot_fem_dec = len(Femaled_new)\n",
    "tot_mal_dec = len(Maled_new)\n",
    "tot_fem_mat = len(new_female)\n",
    "tot_mal_mat = len(new_male)"
   ]
  },
  {
   "cell_type": "markdown",
   "metadata": {},
   "source": [
    "users with the positive class / # users, for each demographic. "
   ]
  },
  {
   "cell_type": "code",
   "execution_count": 54,
   "metadata": {},
   "outputs": [
    {
     "name": "stdout",
     "output_type": "stream",
     "text": [
      "0.7142857142857143\n"
     ]
    }
   ],
   "source": [
    "h = pos_fem_dec/tot_fem_dec\n",
    "print(h)"
   ]
  },
  {
   "cell_type": "code",
   "execution_count": 55,
   "metadata": {},
   "outputs": [
    {
     "name": "stdout",
     "output_type": "stream",
     "text": [
      "0.7\n"
     ]
    }
   ],
   "source": [
    "h1 = pos_mal_dec/tot_mal_dec\n",
    "print(h1)"
   ]
  },
  {
   "cell_type": "code",
   "execution_count": 56,
   "metadata": {},
   "outputs": [
    {
     "name": "stdout",
     "output_type": "stream",
     "text": [
      "0.9857142857142858\n"
     ]
    }
   ],
   "source": [
    "h2 = pos_mal_mat/tot_mal_mat\n",
    "print(h2)"
   ]
  },
  {
   "cell_type": "code",
   "execution_count": 57,
   "metadata": {},
   "outputs": [
    {
     "name": "stdout",
     "output_type": "stream",
     "text": [
      "0.9714285714285714\n"
     ]
    }
   ],
   "source": [
    "h3 = pos_fem_mat/tot_fem_mat\n",
    "print(h3)"
   ]
  },
  {
   "cell_type": "code",
   "execution_count": 58,
   "metadata": {},
   "outputs": [
    {
     "name": "stdout",
     "output_type": "stream",
     "text": [
      "39.682539682539684\n"
     ]
    }
   ],
   "source": [
    "p_percent_dec = (pos_fem_dec/pos_mal_dec)*100\n",
    "print(p_percent_dec)"
   ]
  },
  {
   "cell_type": "code",
   "execution_count": 59,
   "metadata": {},
   "outputs": [
    {
     "name": "stdout",
     "output_type": "stream",
     "text": [
      "98.55072463768117\n"
     ]
    }
   ],
   "source": [
    "p_percent_mat = (pos_fem_mat/pos_mal_mat)*100\n",
    "print(p_percent_mat)"
   ]
  },
  {
   "cell_type": "code",
   "execution_count": null,
   "metadata": {},
   "outputs": [],
   "source": []
  }
 ],
 "metadata": {
  "colab": {
   "name": "Untitled0.ipynb",
   "provenance": [],
   "toc_visible": true
  },
  "kernelspec": {
   "display_name": "Python 3",
   "language": "python",
   "name": "python3"
  },
  "language_info": {
   "codemirror_mode": {
    "name": "ipython",
    "version": 3
   },
   "file_extension": ".py",
   "mimetype": "text/x-python",
   "name": "python",
   "nbconvert_exporter": "python",
   "pygments_lexer": "ipython3",
   "version": "3.7.4"
  }
 },
 "nbformat": 4,
 "nbformat_minor": 1
}
